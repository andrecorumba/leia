{
  "nbformat": 4,
  "nbformat_minor": 0,
  "metadata": {
    "colab": {
      "provenance": [],
      "gpuType": "T4",
      "mount_file_id": "1WHAWYbAFcmip-BBoGr9RC0vAT5lHbTLM",
      "authorship_tag": "ABX9TyNbgNO/lLwSjI5gqVKMp/TH",
      "include_colab_link": true
    },
    "kernelspec": {
      "name": "python3",
      "display_name": "Python 3"
    },
    "language_info": {
      "name": "python"
    },
    "accelerator": "GPU",
    "gpuClass": "standard"
  },
  "cells": [
    {
      "cell_type": "markdown",
      "metadata": {
        "id": "view-in-github",
        "colab_type": "text"
      },
      "source": [
        "<a href=\"https://colab.research.google.com/github/andrecorumba/leia/blob/main/colab-notebook.ipynb\" target=\"_parent\"><img src=\"https://colab.research.google.com/assets/colab-badge.svg\" alt=\"Open In Colab\"/></a>"
      ]
    },
    {
      "cell_type": "markdown",
      "source": [
        "# Leia - Versão Colab\n",
        "\n",
        "Execute no Google Colab (https://colab.research.google.com) para usar GPU\n"
      ],
      "metadata": {
        "id": "fg8jXb8eTZIT"
      }
    }
  ]
}